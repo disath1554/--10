{
  "nbformat": 4,
  "nbformat_minor": 0,
  "metadata": {
    "colab": {
      "provenance": [],
      "include_colab_link": true
    },
    "hide_input": false,
    "kernelspec": {
      "display_name": "Python 3",
      "language": "python",
      "name": "python3"
    },
    "language_info": {
      "codemirror_mode": {
        "name": "ipython",
        "version": 3
      },
      "file_extension": ".py",
      "mimetype": "text/x-python",
      "name": "python",
      "nbconvert_exporter": "python",
      "pygments_lexer": "ipython3",
      "version": "3.7.6"
    },
    "latex_envs": {
      "LaTeX_envs_menu_present": true,
      "autoclose": false,
      "autocomplete": true,
      "bibliofile": "biblio.bib",
      "cite_by": "apalike",
      "current_citInitial": 1,
      "eqLabelWithNumbers": true,
      "eqNumInitial": 1,
      "hotkeys": {
        "equation": "Ctrl-E",
        "itemize": "Ctrl-I"
      },
      "labels_anchors": false,
      "latex_user_defs": false,
      "report_style_numbering": false,
      "user_envs_cfg": false
    },
    "nbTranslate": {
      "displayLangs": [
        "*"
      ],
      "hotkey": "alt-t",
      "langInMainMenu": true,
      "sourceLang": "en",
      "targetLang": "fr",
      "useGoogleTranslate": true
    },
    "toc": {
      "base_numbering": 1,
      "nav_menu": {},
      "number_sections": true,
      "sideBar": true,
      "skip_h1_title": false,
      "title_cell": "Table of Contents",
      "title_sidebar": "Contents",
      "toc_cell": false,
      "toc_position": {},
      "toc_section_display": true,
      "toc_window_display": false
    },
    "varInspector": {
      "cols": {
        "lenName": 16,
        "lenType": 16,
        "lenVar": 40
      },
      "kernels_config": {
        "python": {
          "delete_cmd_postfix": "",
          "delete_cmd_prefix": "del ",
          "library": "var_list.py",
          "varRefreshCmd": "print(var_dic_list())"
        },
        "r": {
          "delete_cmd_postfix": ") ",
          "delete_cmd_prefix": "rm(",
          "library": "var_list.r",
          "varRefreshCmd": "cat(var_dic_list()) "
        }
      },
      "types_to_exclude": [
        "module",
        "function",
        "builtin_function_or_method",
        "instance",
        "_Feature"
      ],
      "window_display": false
    }
  },
  "cells": [
    {
      "cell_type": "markdown",
      "metadata": {
        "id": "view-in-github",
        "colab_type": "text"
      },
      "source": [
        "<a href=\"https://colab.research.google.com/github/disath1554/--10/blob/main/%D0%A2%D0%B5%D0%BC%D0%B0_16_%D0%98%D1%82%D0%BE%D0%B3%D0%BE%D0%B2%D1%8B%D0%B9_%D0%BF%D1%80%D0%BE%D0%B5%D0%BA%D1%82_1_%D0%BF%D0%BE%D0%BB%D1%83%D0%B3%D0%BE%D0%B4%D0%B8%D0%B5_%D0%A0%D0%B5%D0%B7%D1%83%D0%BB%D1%8C%D1%82%D0%B0%D1%82%D1%8B.ipynb\" target=\"_parent\"><img src=\"https://colab.research.google.com/assets/colab-badge.svg\" alt=\"Open In Colab\"/></a>"
      ]
    },
    {
      "cell_type": "code",
      "metadata": {
        "colab": {
          "base_uri": "https://localhost:8080/"
        },
        "id": "RWJedfjGS7ak",
        "outputId": "c77c9e0c-3262-4057-bdbc-00715e46f369"
      },
      "source": [
        "!git clone https://github.com/neuralcomputer/ML_School.git"
      ],
      "execution_count": null,
      "outputs": [
        {
          "output_type": "stream",
          "text": [
            "Cloning into 'ML_School'...\n",
            "remote: Enumerating objects: 47, done.\u001b[K\n",
            "remote: Counting objects: 100% (47/47), done.\u001b[K\n",
            "remote: Compressing objects: 100% (46/46), done.\u001b[K\n",
            "remote: Total 47 (delta 10), reused 0 (delta 0), pack-reused 0\u001b[K\n",
            "Unpacking objects: 100% (47/47), done.\n"
          ],
          "name": "stdout"
        }
      ]
    },
    {
      "cell_type": "markdown",
      "metadata": {
        "id": "2glw1P59VpHD"
      },
      "source": [
        "# Тема 16. Итоговый проект. Решение\n",
        "# Определение цены на подержанные автомобили Ford\n",
        "(на основе материалов [\"Летняя цифровая школа\"](http://digitalsummer.ru/) Сбербанка, 2020)\n",
        "\n",
        "![](https://www.ford.com/cmslibs/content/dam/vdm_ford/live/en_us/ford/nameplate/f-150/2019/collections/billboard/3_2/19_FRD_F15_40813_SPORT_V2-167.jpg/_jcr_content/renditions/cq5dam.web.1280.1280.jpeg)\n",
        "\n"
      ]
    },
    {
      "cell_type": "markdown",
      "metadata": {
        "id": "pEWXJykcVpHE"
      },
      "source": [
        "**Бизнес-постановка задачи** \n",
        "\n",
        "Оценка подержанного автомобиля - это достаточно трудная задача, так как на стоимость влияют различные факторы, например, возраст автомобиля, его состояние, пробег и даже личное отношение продавца. Таким образом, цена подержанных автомобилей на рынке не является постоянной. И поскольку нет прозрачности в её образовании, а спрос растет ежегодно, у нечестных предпринимателей возникает стимул иррационально завышать цену. Модель для оценки стоимости подержанного автомобиля помогла бы покупателям не переплатить за желаемое авто, а честным продавцам быстро устанавливать цену, соответствующую их предложениям. "
      ]
    },
    {
      "cell_type": "markdown",
      "metadata": {
        "id": "AA2SyJehVpHF"
      },
      "source": [
        "**Постановка задачи анализа данных** \n",
        "\n",
        "Целью данной задачи является определение цены на подержанные автомобили Ford с помощью построения регрессионных моделей и их анализа. Набор данных состоит из информации о транспортных средствах, выставленных на продажу на сайте Craigslist. Данные опубликованы в открытом доступе на платформе Kaggle. "
      ]
    },
    {
      "cell_type": "markdown",
      "metadata": {
        "id": "0yo9SRN4VpHG"
      },
      "source": [
        "**Обзор доступных данных**\n",
        "\n",
        "В выборке 4913 наблюдений и 12 характеристик для каждого из объектов (штат продажи, год выпуска, технические характеристики автомобиля, цена транспортного средства и т.д.). Пустые значения указывают на то, что о соответствующей характеристики нет информации. Выборка была разбита на две части для обучения и для тестирования модели."
      ]
    },
    {
      "cell_type": "markdown",
      "metadata": {
        "id": "__Br3ARWVpHG"
      },
      "source": [
        "Итак, данные содержат два типа переменных:\n",
        "\n",
        "* Целевая: **price**\n",
        "* Остальные переменные: **11 переменных, которые могут использоваться для определения целевой переменной.**"
      ]
    },
    {
      "cell_type": "markdown",
      "metadata": {
        "id": "n1keP6JCVpHH"
      },
      "source": [
        "## План анализа данных (data mining):\n",
        "\n",
        "  1. Загрузить данные для обучения\n",
        "  2. Обработать данные перед обучением модели\n",
        "  3. Обучить модель на обучающей выборке\n",
        "  4. Загрузить и предобработать данные для тестирования\n",
        "  5. Протестировать модель на тестовой выборке"
      ]
    },
    {
      "cell_type": "markdown",
      "metadata": {
        "id": "aoG95e54VpHI"
      },
      "source": [
        "## 1. Загрузить данные для обучения"
      ]
    },
    {
      "cell_type": "markdown",
      "metadata": {
        "id": "EUclkaPTVpHJ"
      },
      "source": [
        "**Шаг 1.1. Загружаем библиотеки** "
      ]
    },
    {
      "cell_type": "markdown",
      "metadata": {
        "id": "eEHCR4ToVpHK"
      },
      "source": [
        "Библиотека **warnings** отвечает за то, какие предупреждения (warnings) о работе будут выводиться пользователю. \n",
        "FutureWarning - предупреждения о том, как изменится работа библиотек в будущих версиях.\n",
        "Поэтому такие предупреждения мы будем игнорировать.\n",
        "Чтобы включить режим игнорирования мы отбираем все предупреждения из категории FutureWarning и выбираем для них действия 'ignore'.\n",
        "Это делается вызовом функции simplefilter c задание двух атрибутов: действия action и категории предупреждений category."
      ]
    },
    {
      "cell_type": "code",
      "metadata": {
        "ExecuteTime": {
          "end_time": "2020-10-11T10:09:19.827231Z",
          "start_time": "2020-10-11T10:09:19.824231Z"
        },
        "id": "53HanWonVpHK"
      },
      "source": [
        "import warnings\n",
        "warnings.simplefilter(action='ignore', category=FutureWarning)"
      ],
      "execution_count": null,
      "outputs": []
    },
    {
      "cell_type": "markdown",
      "metadata": {
        "id": "1eisbj1xVpHN"
      },
      "source": [
        "\n",
        "\n",
        "Для корректной работы с данными в python требуется загрузить специальную библиотеку\n",
        "**pandas**, программную библиотеку на языке python для обработки и анализа данных. "
      ]
    },
    {
      "cell_type": "code",
      "metadata": {
        "ExecuteTime": {
          "end_time": "2020-10-11T10:09:20.212253Z",
          "start_time": "2020-10-11T10:09:19.887235Z"
        },
        "id": "ctcktHn-VpHO"
      },
      "source": [
        "import pandas as pd # загружаем библиотеку и для простоты обращения в коде называем её сокращенно pd"
      ],
      "execution_count": null,
      "outputs": []
    },
    {
      "cell_type": "markdown",
      "metadata": {
        "id": "y6-B9iMJVpHQ"
      },
      "source": [
        "Для корректной работы с графиками в python требуется загрузить специальную библиотеку\n",
        "**matplotlib**, программную библиотеку на языке python для визуализации данных двумерной и трехмерной графикой.\n",
        "\n",
        "Графики используются для облегчения интерпретации полученных результатов, а также в качестве иллюстраций в презентациях и отчетах. \n",
        "\n",
        "Оснвные методы для построения:\n",
        "* plot() - графики\n",
        "* semilogy() - график логарифметический\n",
        "* hist() - гистограммы"
      ]
    },
    {
      "cell_type": "code",
      "metadata": {
        "ExecuteTime": {
          "end_time": "2020-10-11T10:09:20.404264Z",
          "start_time": "2020-10-11T10:09:20.213253Z"
        },
        "id": "V3qecq69VpHR"
      },
      "source": [
        "import matplotlib.pyplot as plt # загружаем библиотеку и для простоты обращения в коде называем её сокращенно plt\n",
        "\n",
        "# позволяет отображать графики прямо в ноутбуке\n",
        "%matplotlib inline"
      ],
      "execution_count": null,
      "outputs": []
    },
    {
      "cell_type": "markdown",
      "metadata": {
        "id": "gActSs3PVpHT"
      },
      "source": [
        "**Шаг 1.2. Загрузим данные**\n",
        "\n"
      ]
    },
    {
      "cell_type": "markdown",
      "metadata": {
        "id": "p2BMYCwYRYTw"
      },
      "source": [
        "Для решения задачи мы будем использовать данные. Они состоят из двух частей: часть для обучения и часть для тестирования модели. Данные уже скачены на диск."
      ]
    },
    {
      "cell_type": "markdown",
      "metadata": {
        "id": "oWLdfXklRW-7"
      },
      "source": [
        "Так как данные в формате xlsx (Excel), мы будем использовать специальную функцию\n",
        "из библиотеки pandas для загрузки таких данных **read_excel**.\n",
        "\n",
        "В функцию передаем атрибут: название таблицы с данными, а чтобы не загружать столбец 'Unnamed' (это просто номер позиции, смысла для нас не имеет) определим, что загружаем все, кроме него с помощью lambda-функции в аргументе `usecols`."
      ]
    },
    {
      "cell_type": "code",
      "metadata": {
        "ExecuteTime": {
          "end_time": "2020-10-11T10:09:21.014299Z",
          "start_time": "2020-10-11T10:09:20.405264Z"
        },
        "id": "ihpn24vxVpHU"
      },
      "source": [
        "training_data = pd.read_excel('ML_School/training_data.xlsx', usecols=lambda x: 'Unnamed' not in x) # загружаем таблицу в переменную training_data"
      ],
      "execution_count": null,
      "outputs": []
    },
    {
      "cell_type": "markdown",
      "metadata": {
        "id": "jtKEETDTVpHW"
      },
      "source": [
        "*Что важно посмотреть после того, как мы загрузили данные?*\n",
        "- проверить, что данные действительно загрузились\n",
        "- посмотреть на данные, чтобы удостовериться, что они правильные: колонки имеют те же названия, что и в таблице и т.д.\n",
        "\n",
        "Для того чтобы это сделать, нужно вызвать от переменной *training_data* метод **head()**, который выводит первые 5 строк таблицы. \n",
        "\n",
        "Для вызова метода объекта необходимо сначала написать *имя объекта*, затем поставить *точку*, затем уже написать *название метода*. Обратите внимание, что в конце обязательно ставить скобочки, потому что метод - это функция и в ней есть аргументы, просто в данном случае мы их не передаем, поэтому оставляем поле пустым"
      ]
    },
    {
      "cell_type": "code",
      "metadata": {
        "ExecuteTime": {
          "end_time": "2020-10-11T10:09:21.028300Z",
          "start_time": "2020-10-11T10:09:21.015299Z"
        },
        "colab": {
          "base_uri": "https://localhost:8080/",
          "height": 295
        },
        "id": "1UeBDq89VpHX",
        "outputId": "71e65a21-9793-44d6-8199-86a20ddc57f4"
      },
      "source": [
        "training_data.head()"
      ],
      "execution_count": null,
      "outputs": [
        {
          "output_type": "execute_result",
          "data": {
            "text/html": [
              "<div>\n",
              "<style scoped>\n",
              "    .dataframe tbody tr th:only-of-type {\n",
              "        vertical-align: middle;\n",
              "    }\n",
              "\n",
              "    .dataframe tbody tr th {\n",
              "        vertical-align: top;\n",
              "    }\n",
              "\n",
              "    .dataframe thead th {\n",
              "        text-align: right;\n",
              "    }\n",
              "</style>\n",
              "<table border=\"1\" class=\"dataframe\">\n",
              "  <thead>\n",
              "    <tr style=\"text-align: right;\">\n",
              "      <th></th>\n",
              "      <th>price</th>\n",
              "      <th>year</th>\n",
              "      <th>condition</th>\n",
              "      <th>cylinders</th>\n",
              "      <th>odometer</th>\n",
              "      <th>title_status</th>\n",
              "      <th>transmission</th>\n",
              "      <th>drive</th>\n",
              "      <th>size</th>\n",
              "      <th>lat</th>\n",
              "      <th>long</th>\n",
              "      <th>weather</th>\n",
              "    </tr>\n",
              "  </thead>\n",
              "  <tbody>\n",
              "    <tr>\n",
              "      <th>0</th>\n",
              "      <td>43900</td>\n",
              "      <td>2016</td>\n",
              "      <td>4</td>\n",
              "      <td>6</td>\n",
              "      <td>43500</td>\n",
              "      <td>clean</td>\n",
              "      <td>automatic</td>\n",
              "      <td>4wd</td>\n",
              "      <td>full-size</td>\n",
              "      <td>36.471500</td>\n",
              "      <td>-82.483400</td>\n",
              "      <td>59.0</td>\n",
              "    </tr>\n",
              "    <tr>\n",
              "      <th>1</th>\n",
              "      <td>15490</td>\n",
              "      <td>2009</td>\n",
              "      <td>2</td>\n",
              "      <td>8</td>\n",
              "      <td>98131</td>\n",
              "      <td>clean</td>\n",
              "      <td>automatic</td>\n",
              "      <td>4wd</td>\n",
              "      <td>full-size</td>\n",
              "      <td>40.468826</td>\n",
              "      <td>-74.281734</td>\n",
              "      <td>52.0</td>\n",
              "    </tr>\n",
              "    <tr>\n",
              "      <th>2</th>\n",
              "      <td>2495</td>\n",
              "      <td>2002</td>\n",
              "      <td>2</td>\n",
              "      <td>8</td>\n",
              "      <td>201803</td>\n",
              "      <td>clean</td>\n",
              "      <td>automatic</td>\n",
              "      <td>4wd</td>\n",
              "      <td>full-size</td>\n",
              "      <td>42.477134</td>\n",
              "      <td>-82.949564</td>\n",
              "      <td>45.0</td>\n",
              "    </tr>\n",
              "    <tr>\n",
              "      <th>3</th>\n",
              "      <td>1300</td>\n",
              "      <td>2000</td>\n",
              "      <td>1</td>\n",
              "      <td>8</td>\n",
              "      <td>170305</td>\n",
              "      <td>rebuilt</td>\n",
              "      <td>automatic</td>\n",
              "      <td>4wd</td>\n",
              "      <td>full-size</td>\n",
              "      <td>40.764373</td>\n",
              "      <td>-82.349503</td>\n",
              "      <td>49.0</td>\n",
              "    </tr>\n",
              "    <tr>\n",
              "      <th>4</th>\n",
              "      <td>13865</td>\n",
              "      <td>2010</td>\n",
              "      <td>3</td>\n",
              "      <td>8</td>\n",
              "      <td>166062</td>\n",
              "      <td>clean</td>\n",
              "      <td>automatic</td>\n",
              "      <td>4wd</td>\n",
              "      <td>NaN</td>\n",
              "      <td>49.210949</td>\n",
              "      <td>-123.114720</td>\n",
              "      <td>NaN</td>\n",
              "    </tr>\n",
              "  </tbody>\n",
              "</table>\n",
              "</div>"
            ],
            "text/plain": [
              "   price  year  condition  cylinders  ...       size        lat        long weather\n",
              "0  43900  2016          4          6  ...  full-size  36.471500  -82.483400    59.0\n",
              "1  15490  2009          2          8  ...  full-size  40.468826  -74.281734    52.0\n",
              "2   2495  2002          2          8  ...  full-size  42.477134  -82.949564    45.0\n",
              "3   1300  2000          1          8  ...  full-size  40.764373  -82.349503    49.0\n",
              "4  13865  2010          3          8  ...        NaN  49.210949 -123.114720     NaN\n",
              "\n",
              "[5 rows x 12 columns]"
            ]
          },
          "metadata": {
            "tags": []
          },
          "execution_count": 6
        }
      ]
    },
    {
      "cell_type": "markdown",
      "metadata": {
        "id": "0EL90ZdWVpHa"
      },
      "source": [
        "Ниже в таблице представлено описание каждого из 12 полей."
      ]
    },
    {
      "cell_type": "markdown",
      "metadata": {
        "id": "-cBO9ImLVpHb"
      },
      "source": [
        "|Название поля \t |Описание      \t                              |Название поля   |Описание                                  |\n",
        "|:--------------:|:----------------------------------------------:|:--------------:|:----------------------------------------:|\n",
        "|**price**       |Цена                                            |**transmission**|Коробка передач                           |\n",
        "|**year**        |Год производства \t                              |**drive**       |Привод                                    |\n",
        "|**condition**   |Состояние        \t                              |**size**        |Полноразмер или нет                       |\n",
        "|**cylinders**   |Количество цлиндров \t                          |**lat**         |Широта \t                                  |\n",
        "|**odometer**    |Пробег                                          |**long**        |Долгота  \t                              |\n",
        "|**title_status**|Легальный статус авто  (все документы в наличии)|**weather**     |Среднегодовая температура в городе продажи|\n"
      ]
    },
    {
      "cell_type": "markdown",
      "metadata": {
        "id": "VwAsIpuOVpHc"
      },
      "source": [
        "**Шаг 1.3. Посмотрим на размеры загруженной таблицы**, у которой мы видели только первые 5 строк.\n",
        "\n",
        "Для этого вызываем поле **shape** у нашей переменной *training_data*. Поле вызывается также как метод, но в конце скобки не ставятся, так как для поля не предусмотрена передача аргументов.  "
      ]
    },
    {
      "cell_type": "code",
      "metadata": {
        "ExecuteTime": {
          "end_time": "2020-10-11T10:09:21.058302Z",
          "start_time": "2020-10-11T10:09:21.029300Z"
        },
        "colab": {
          "base_uri": "https://localhost:8080/"
        },
        "id": "pjF7eVBiVpHc",
        "outputId": "6035b95e-d662-4c62-85f5-90ffe9de3c10"
      },
      "source": [
        "training_data.shape"
      ],
      "execution_count": null,
      "outputs": [
        {
          "output_type": "execute_result",
          "data": {
            "text/plain": [
              "(4913, 12)"
            ]
          },
          "metadata": {
            "tags": []
          },
          "execution_count": 7
        }
      ]
    },
    {
      "cell_type": "markdown",
      "metadata": {
        "id": "1_thqqqTVpHf"
      },
      "source": [
        "*Что означает первое и второе число?*\n",
        "\n",
        "Итак, таблица содержит 4913 строк (объектов) и 12 столбцов (признаков), включая выходной (целевой) признак.\n",
        "\n",
        "Таблицу проверили, теперь можно приступать к обработке данных."
      ]
    },
    {
      "cell_type": "markdown",
      "metadata": {
        "id": "iW3qRGZcVpHg"
      },
      "source": [
        "# 2. Обработать данные перед обучением модели"
      ]
    },
    {
      "cell_type": "markdown",
      "metadata": {
        "id": "fW9eRYgoVpHh"
      },
      "source": [
        "<a href=\"https://drive.google.com/uc?id=1oBVbNi9xUsQObgLV0fA0oP4To5AbLc7j\n",
        "\" target=\"_blank\"><img src=\"https://drive.google.com/uc?id=1oBVbNi9xUsQObgLV0fA0oP4To5AbLc7j\" \n",
        "alt=\"IMAGE ALT TEXT HERE\" width=\"360\" border=\"0\" /></a>\n"
      ]
    },
    {
      "cell_type": "markdown",
      "metadata": {
        "id": "6me6mH7LVpHh"
      },
      "source": [
        "**Шаг 2.1. Проверяем данные на наличие пропусков и типов переменных**\n",
        "\n",
        "Начнем с проверки общей информации о данных.\n",
        "Для того чтобы это сделать, нужно вызвать у переменной *training_data* метод **info()**.\n",
        "\n",
        "Напомним, что в конце необходимо поставить скобочки."
      ]
    },
    {
      "cell_type": "code",
      "metadata": {
        "ExecuteTime": {
          "end_time": "2020-10-11T10:09:21.102304Z",
          "start_time": "2020-10-11T10:09:21.059302Z"
        },
        "colab": {
          "base_uri": "https://localhost:8080/"
        },
        "id": "7ZOawvYOVpHi",
        "outputId": "be25ae3d-c137-4cd1-ca9c-42ba3de3af1b"
      },
      "source": [
        "training_data.info()"
      ],
      "execution_count": null,
      "outputs": [
        {
          "output_type": "stream",
          "text": [
            "<class 'pandas.core.frame.DataFrame'>\n",
            "RangeIndex: 4913 entries, 0 to 4912\n",
            "Data columns (total 12 columns):\n",
            " #   Column        Non-Null Count  Dtype  \n",
            "---  ------        --------------  -----  \n",
            " 0   price         4913 non-null   int64  \n",
            " 1   year          4913 non-null   int64  \n",
            " 2   condition     4913 non-null   int64  \n",
            " 3   cylinders     4913 non-null   int64  \n",
            " 4   odometer      4913 non-null   int64  \n",
            " 5   title_status  4913 non-null   object \n",
            " 6   transmission  4913 non-null   object \n",
            " 7   drive         4651 non-null   object \n",
            " 8   size          3825 non-null   object \n",
            " 9   lat           4913 non-null   float64\n",
            " 10  long          4913 non-null   float64\n",
            " 11  weather       4801 non-null   float64\n",
            "dtypes: float64(3), int64(5), object(4)\n",
            "memory usage: 460.7+ KB\n"
          ],
          "name": "stdout"
        }
      ]
    },
    {
      "cell_type": "markdown",
      "metadata": {
        "id": "erHCAu_rVpHl"
      },
      "source": [
        "Анализируем результат выполнения команды:\n",
        "\n",
        "* 4913 строк (entries)\n",
        "* 12 столбцов (Data columns)\n",
        "\n",
        "В данных присутствует три типа dtypes:\n",
        "* int64 - целое число  (5 столбцов)\n",
        "* float64 - дробное число (3 столбца)\n",
        "* object - не число, обычно текст (4 столбца)\n",
        "\n",
        "В нашем случае признаки с типом object имеют текстовые значения. \n",
        "\n",
        "Цифры в каждой строчке обозначают количество заполненных (*non-null*) значений. Видно, что в данных содержатся пропуски, так как эти цифры не в каждой строчке совпадают с полным числом строк (4913)."
      ]
    },
    {
      "cell_type": "markdown",
      "metadata": {
        "id": "_bq3PXRbVpHl"
      },
      "source": [
        "**Шаг 2.2. Удаляем пропуски**\n",
        "\n",
        "Как мы уже видели выше, в наших данных есть пропуски (значения NaN). Для удобства работы выкинем такие данные из нашего датасета, применив метод **dropna()** к *training_data*:"
      ]
    },
    {
      "cell_type": "code",
      "metadata": {
        "ExecuteTime": {
          "end_time": "2020-10-11T10:09:21.138306Z",
          "start_time": "2020-10-11T10:09:21.104304Z"
        },
        "id": "8R6DHvBLVpHm"
      },
      "source": [
        "training_data = training_data.dropna()"
      ],
      "execution_count": null,
      "outputs": []
    },
    {
      "cell_type": "markdown",
      "metadata": {
        "id": "reY3T3MwVpHp"
      },
      "source": [
        "Посмотрим на то, как изменились размеры таблички:"
      ]
    },
    {
      "cell_type": "code",
      "metadata": {
        "ExecuteTime": {
          "end_time": "2020-10-11T10:09:21.163308Z",
          "start_time": "2020-10-11T10:09:21.139306Z"
        },
        "colab": {
          "base_uri": "https://localhost:8080/"
        },
        "id": "bfKiVzXuVpHp",
        "outputId": "d5ea2198-1ad1-4d6e-caab-b1bf7bee7aea"
      },
      "source": [
        "training_data.shape"
      ],
      "execution_count": null,
      "outputs": [
        {
          "output_type": "execute_result",
          "data": {
            "text/plain": [
              "(3659, 12)"
            ]
          },
          "metadata": {
            "tags": []
          },
          "execution_count": 10
        }
      ]
    },
    {
      "cell_type": "markdown",
      "metadata": {
        "id": "jva_6UWSVpHs"
      },
      "source": [
        "После выкидывания строк с пропущенными значениями осталось 3659 строк из 4913. Нам повезло: наш набор данных был заполнен на 75%. "
      ]
    },
    {
      "cell_type": "markdown",
      "metadata": {
        "id": "2xZ4SSKaVpHs"
      },
      "source": [
        "**Шаг 2.3. Отделяем текстовые признаки от числовых**\n",
        "\n",
        "Мы видим, что некоторые характеристики представлены текстовыми значениями. Машине сложно обрабатывать текстовые признаки, поэтому для упрощения работы мы оставим столбцы, содержащие только числовые данные.   \n",
        "\n",
        "Отметим, что, таким образом мы можем потерять довольно много информации (например, очевидно, что тип привода (признак drive)  влияет на стоимость), однако мы сознательно идем на это упрощение в этом проекте. \n",
        "\n",
        "Чтобы получить все числовые характеристики, необхдимо применить метод **_get_numeric_data()** к объекту *training_data*"
      ]
    },
    {
      "cell_type": "code",
      "metadata": {
        "ExecuteTime": {
          "end_time": "2020-10-11T10:09:21.193309Z",
          "start_time": "2020-10-11T10:09:21.164308Z"
        },
        "id": "e6RinDt_VpHt"
      },
      "source": [
        "training_data = training_data._get_numeric_data()"
      ],
      "execution_count": null,
      "outputs": []
    },
    {
      "cell_type": "markdown",
      "metadata": {
        "id": "rWe-0cAwVpHv"
      },
      "source": [
        "Посмотрим на данные еще раз. Теперь они содержат лишь числовые признаки."
      ]
    },
    {
      "cell_type": "code",
      "metadata": {
        "ExecuteTime": {
          "end_time": "2020-10-11T10:09:21.233312Z",
          "start_time": "2020-10-11T10:09:21.194310Z"
        },
        "colab": {
          "base_uri": "https://localhost:8080/",
          "height": 206
        },
        "id": "Ft7MTQn1VpHw",
        "outputId": "b502dfc0-55f4-47e1-b72e-0a263c31310c"
      },
      "source": [
        "training_data.head()"
      ],
      "execution_count": null,
      "outputs": [
        {
          "output_type": "execute_result",
          "data": {
            "text/html": [
              "<div>\n",
              "<style scoped>\n",
              "    .dataframe tbody tr th:only-of-type {\n",
              "        vertical-align: middle;\n",
              "    }\n",
              "\n",
              "    .dataframe tbody tr th {\n",
              "        vertical-align: top;\n",
              "    }\n",
              "\n",
              "    .dataframe thead th {\n",
              "        text-align: right;\n",
              "    }\n",
              "</style>\n",
              "<table border=\"1\" class=\"dataframe\">\n",
              "  <thead>\n",
              "    <tr style=\"text-align: right;\">\n",
              "      <th></th>\n",
              "      <th>price</th>\n",
              "      <th>year</th>\n",
              "      <th>condition</th>\n",
              "      <th>cylinders</th>\n",
              "      <th>odometer</th>\n",
              "      <th>lat</th>\n",
              "      <th>long</th>\n",
              "      <th>weather</th>\n",
              "    </tr>\n",
              "  </thead>\n",
              "  <tbody>\n",
              "    <tr>\n",
              "      <th>0</th>\n",
              "      <td>43900</td>\n",
              "      <td>2016</td>\n",
              "      <td>4</td>\n",
              "      <td>6</td>\n",
              "      <td>43500</td>\n",
              "      <td>36.471500</td>\n",
              "      <td>-82.483400</td>\n",
              "      <td>59.0</td>\n",
              "    </tr>\n",
              "    <tr>\n",
              "      <th>1</th>\n",
              "      <td>15490</td>\n",
              "      <td>2009</td>\n",
              "      <td>2</td>\n",
              "      <td>8</td>\n",
              "      <td>98131</td>\n",
              "      <td>40.468826</td>\n",
              "      <td>-74.281734</td>\n",
              "      <td>52.0</td>\n",
              "    </tr>\n",
              "    <tr>\n",
              "      <th>2</th>\n",
              "      <td>2495</td>\n",
              "      <td>2002</td>\n",
              "      <td>2</td>\n",
              "      <td>8</td>\n",
              "      <td>201803</td>\n",
              "      <td>42.477134</td>\n",
              "      <td>-82.949564</td>\n",
              "      <td>45.0</td>\n",
              "    </tr>\n",
              "    <tr>\n",
              "      <th>3</th>\n",
              "      <td>1300</td>\n",
              "      <td>2000</td>\n",
              "      <td>1</td>\n",
              "      <td>8</td>\n",
              "      <td>170305</td>\n",
              "      <td>40.764373</td>\n",
              "      <td>-82.349503</td>\n",
              "      <td>49.0</td>\n",
              "    </tr>\n",
              "    <tr>\n",
              "      <th>5</th>\n",
              "      <td>6995</td>\n",
              "      <td>2003</td>\n",
              "      <td>3</td>\n",
              "      <td>8</td>\n",
              "      <td>167662</td>\n",
              "      <td>45.518031</td>\n",
              "      <td>-122.578752</td>\n",
              "      <td>50.0</td>\n",
              "    </tr>\n",
              "  </tbody>\n",
              "</table>\n",
              "</div>"
            ],
            "text/plain": [
              "   price  year  condition  cylinders  odometer        lat        long  weather\n",
              "0  43900  2016          4          6     43500  36.471500  -82.483400     59.0\n",
              "1  15490  2009          2          8     98131  40.468826  -74.281734     52.0\n",
              "2   2495  2002          2          8    201803  42.477134  -82.949564     45.0\n",
              "3   1300  2000          1          8    170305  40.764373  -82.349503     49.0\n",
              "5   6995  2003          3          8    167662  45.518031 -122.578752     50.0"
            ]
          },
          "metadata": {
            "tags": []
          },
          "execution_count": 12
        }
      ]
    },
    {
      "cell_type": "markdown",
      "metadata": {
        "id": "P0221IXpVpHz"
      },
      "source": [
        "Итак, из 12 столбцов у нас осталось 8 числовых, 4 текстовых мы убрали."
      ]
    },
    {
      "cell_type": "markdown",
      "metadata": {
        "id": "DjWJBfeIVpH1"
      },
      "source": [
        "Для числовых признаков можно построить гистограмму. Гистограмма - это способ графического представления табличных данных, благодаря которому можно увидеть распределение значений признака. \n",
        "\n",
        "Для построения гистограммы необходимо вызвать метод **hist()** у объекта *training_data*. Желательно указать аргумент *figsize*, который устанавливает ожидаемый размер изображения. В нашем случае это (15,15).  \n",
        "\n",
        "Заметим, что название переменной, по которой строится гистограмма, указано в названии графика."
      ]
    },
    {
      "cell_type": "code",
      "metadata": {
        "ExecuteTime": {
          "end_time": "2020-10-11T10:09:22.129363Z",
          "start_time": "2020-10-11T10:09:21.234312Z"
        },
        "colab": {
          "base_uri": "https://localhost:8080/",
          "height": 858
        },
        "id": "rH0Bn63FVpH2",
        "outputId": "d2ccfa10-4a53-49df-a572-88330b20ce95"
      },
      "source": [
        "training_data.hist(figsize=(15, 15));"
      ],
      "execution_count": null,
      "outputs": [
        {
          "output_type": "display_data",
          "data": {
            "image/png": "[encoded data removed]",
            "text/plain": [
              "<Figure size 1080x1080 with 9 Axes>"
            ]
          },
          "metadata": {
            "tags": [],
            "needs_background": "light"
          }
        }
      ]
    },
    {
      "cell_type": "markdown",
      "metadata": {
        "id": "iOCJ9GQOVpH9"
      },
      "source": [
        "Например, рассмотрим признак cylinders. Из гистограммы видно, что у нас очень мало машин с четырьмя и десятью цилиндрами. Машин с шестью цилиндрами - 1500, и около 3500 машин с восемью цилиндрами.   "
      ]
    },
    {
      "cell_type": "markdown",
      "metadata": {
        "id": "paek7UNfVpH-"
      },
      "source": [
        "**Шаг 2.4. Работаем с целевой переменной**\n",
        "\n",
        "*Какая переменная целевая?*\n",
        "\n",
        "В данном случае по условию задачи мы должны определять стоимость автомобиля, поэтому целевая переменная - это price. Запишем название целевого признака в отдельную переменную с названием *target_variable_name*. "
      ]
    },
    {
      "cell_type": "code",
      "metadata": {
        "ExecuteTime": {
          "end_time": "2020-10-11T10:09:22.132363Z",
          "start_time": "2020-10-11T10:09:22.130363Z"
        },
        "id": "KGs58XjDVpIA"
      },
      "source": [
        "target_variable_name = 'price'"
      ],
      "execution_count": null,
      "outputs": []
    },
    {
      "cell_type": "markdown",
      "metadata": {
        "id": "rCgsDIpZVpID"
      },
      "source": [
        "Нам нужно выделить в отдельную переменную *training_values* столбец из нашей таблицы, который соответствует определенной выше целевой переменной. Для этого мы у таблицы *training_data* в квадратных скобках указываем имя нужного столбца. В нашем случае это имя записано в переменной *target_variable_name*. "
      ]
    },
    {
      "cell_type": "code",
      "metadata": {
        "ExecuteTime": {
          "end_time": "2020-10-11T10:09:22.169365Z",
          "start_time": "2020-10-11T10:09:22.133363Z"
        },
        "id": "LtVZZ4zKVpIE"
      },
      "source": [
        "training_values = training_data[target_variable_name]"
      ],
      "execution_count": null,
      "outputs": []
    },
    {
      "cell_type": "markdown",
      "metadata": {
        "id": "TLL7PuCCVpIG"
      },
      "source": [
        "Отделим входные переменные от выходной (целевой), чтобы можно было построить модель определения целевой переменной по входным. \n",
        "Для это нужно у переменной *training_data* вызвать метод **drop()**. Результат мы записываем в новую переменную *training_points*. После выполнения запроса *training_points* будет содержать исходную таблицу без целевого столбца. \n",
        "\n",
        "Обратите внимание, что в данном случае мы передаем два аргумента:\n",
        "    1. target_variable_name - название столбца цены, который мы ранее записали в эту переменную и теперь хотим удалить из training_data\n",
        "    2. axis=1 - означает, что мы удаляем столбец, а в случае axis=0 - означает, что мы удаляем строку"
      ]
    },
    {
      "cell_type": "code",
      "metadata": {
        "ExecuteTime": {
          "end_time": "2020-10-11T10:09:22.201367Z",
          "start_time": "2020-10-11T10:09:22.170365Z"
        },
        "id": "sBSDO6TtVpIG"
      },
      "source": [
        "training_points = training_data.drop(target_variable_name, axis=1)"
      ],
      "execution_count": null,
      "outputs": []
    },
    {
      "cell_type": "markdown",
      "metadata": {
        "id": "3yxSxAkWVpII"
      },
      "source": [
        "Можно посмотреть результаты этих действий, вызвав метод **head()** и поле **shape**, которыми мы пользовались ранее, но сейчас нужно вызывать их от новой переменной *training_points*."
      ]
    },
    {
      "cell_type": "code",
      "metadata": {
        "ExecuteTime": {
          "end_time": "2020-10-11T10:09:22.237369Z",
          "start_time": "2020-10-11T10:09:22.202367Z"
        },
        "colab": {
          "base_uri": "https://localhost:8080/",
          "height": 206
        },
        "id": "8c26aeLBVpIJ",
        "outputId": "dede7657-e2e6-41ad-cae1-18f7fc837aa8"
      },
      "source": [
        "training_points.head()"
      ],
      "execution_count": null,
      "outputs": [
        {
          "output_type": "execute_result",
          "data": {
            "text/html": [
              "<div>\n",
              "<style scoped>\n",
              "    .dataframe tbody tr th:only-of-type {\n",
              "        vertical-align: middle;\n",
              "    }\n",
              "\n",
              "    .dataframe tbody tr th {\n",
              "        vertical-align: top;\n",
              "    }\n",
              "\n",
              "    .dataframe thead th {\n",
              "        text-align: right;\n",
              "    }\n",
              "</style>\n",
              "<table border=\"1\" class=\"dataframe\">\n",
              "  <thead>\n",
              "    <tr style=\"text-align: right;\">\n",
              "      <th></th>\n",
              "      <th>year</th>\n",
              "      <th>condition</th>\n",
              "      <th>cylinders</th>\n",
              "      <th>odometer</th>\n",
              "      <th>lat</th>\n",
              "      <th>long</th>\n",
              "      <th>weather</th>\n",
              "    </tr>\n",
              "  </thead>\n",
              "  <tbody>\n",
              "    <tr>\n",
              "      <th>0</th>\n",
              "      <td>2016</td>\n",
              "      <td>4</td>\n",
              "      <td>6</td>\n",
              "      <td>43500</td>\n",
              "      <td>36.471500</td>\n",
              "      <td>-82.483400</td>\n",
              "      <td>59.0</td>\n",
              "    </tr>\n",
              "    <tr>\n",
              "      <th>1</th>\n",
              "      <td>2009</td>\n",
              "      <td>2</td>\n",
              "      <td>8</td>\n",
              "      <td>98131</td>\n",
              "      <td>40.468826</td>\n",
              "      <td>-74.281734</td>\n",
              "      <td>52.0</td>\n",
              "    </tr>\n",
              "    <tr>\n",
              "      <th>2</th>\n",
              "      <td>2002</td>\n",
              "      <td>2</td>\n",
              "      <td>8</td>\n",
              "      <td>201803</td>\n",
              "      <td>42.477134</td>\n",
              "      <td>-82.949564</td>\n",
              "      <td>45.0</td>\n",
              "    </tr>\n",
              "    <tr>\n",
              "      <th>3</th>\n",
              "      <td>2000</td>\n",
              "      <td>1</td>\n",
              "      <td>8</td>\n",
              "      <td>170305</td>\n",
              "      <td>40.764373</td>\n",
              "      <td>-82.349503</td>\n",
              "      <td>49.0</td>\n",
              "    </tr>\n",
              "    <tr>\n",
              "      <th>5</th>\n",
              "      <td>2003</td>\n",
              "      <td>3</td>\n",
              "      <td>8</td>\n",
              "      <td>167662</td>\n",
              "      <td>45.518031</td>\n",
              "      <td>-122.578752</td>\n",
              "      <td>50.0</td>\n",
              "    </tr>\n",
              "  </tbody>\n",
              "</table>\n",
              "</div>"
            ],
            "text/plain": [
              "   year  condition  cylinders  odometer        lat        long  weather\n",
              "0  2016          4          6     43500  36.471500  -82.483400     59.0\n",
              "1  2009          2          8     98131  40.468826  -74.281734     52.0\n",
              "2  2002          2          8    201803  42.477134  -82.949564     45.0\n",
              "3  2000          1          8    170305  40.764373  -82.349503     49.0\n",
              "5  2003          3          8    167662  45.518031 -122.578752     50.0"
            ]
          },
          "metadata": {
            "tags": []
          },
          "execution_count": 17
        }
      ]
    },
    {
      "cell_type": "code",
      "metadata": {
        "ExecuteTime": {
          "end_time": "2020-10-11T10:09:22.268371Z",
          "start_time": "2020-10-11T10:09:22.238369Z"
        },
        "colab": {
          "base_uri": "https://localhost:8080/"
        },
        "id": "zoxp0WQbVpIL",
        "outputId": "c2f9506b-9efe-4415-ef67-5d82d2ef6c23"
      },
      "source": [
        "training_points.shape"
      ],
      "execution_count": null,
      "outputs": [
        {
          "output_type": "execute_result",
          "data": {
            "text/plain": [
              "(3659, 7)"
            ]
          },
          "metadata": {
            "tags": []
          },
          "execution_count": 18
        }
      ]
    },
    {
      "cell_type": "markdown",
      "metadata": {
        "id": "yU79ZTVDVpIN"
      },
      "source": [
        "Видно, что столбца действительно нет, а количество строк не изменилось. Данные в 5 первых строках такие же, как были ранее."
      ]
    },
    {
      "cell_type": "markdown",
      "metadata": {
        "id": "ToU5Hrg6VpIO"
      },
      "source": [
        "##   3. Обучить модель на обучающей выборке"
      ]
    },
    {
      "cell_type": "markdown",
      "metadata": {
        "id": "vrrvfCDOVpIO"
      },
      "source": [
        "![](https://raw.githubusercontent.com/MerkulovDaniil/TensorFlow_and_Keras_crash_course/master/ford_price.png)\n",
        "\n",
        "**Шаг 3.1. Выбираем метод, который будем использовать**\n",
        "\n",
        "Проще всего начать с простых методов. \n",
        "Мы воспользуемся двумя методами для построения моделей и сравним их между собой:\n",
        "* Линейная регрессия *linear regression*\n",
        "* Лес решающих деревьев *random forest*\n",
        "\n",
        "На выбор метода для построения модели влияет набор признаков, размер выборки, интуиция про то, какая связь между входными переменными и целевой. Но часто решение принимается исходя из того, какая модель сработала лучше."
      ]
    },
    {
      "cell_type": "markdown",
      "metadata": {
        "id": "Iz5FMkMbVpIP"
      },
      "source": [
        "Для корректной работы с методами построения моделей в python требуется загрузить специальную библиотеку\n",
        "**sklearn**, программную библиотеку на языке python для для машинного обучения и анализа данных.\n",
        "\n",
        "Мы импортируем два модуля из этой библиотеки:\n",
        " * *linear_model* - тут находятся все линейные модели\n",
        " * *ensemble* - тут находятся модели на основе ансамблей"
      ]
    },
    {
      "cell_type": "code",
      "metadata": {
        "ExecuteTime": {
          "end_time": "2020-10-11T10:09:23.042415Z",
          "start_time": "2020-10-11T10:09:22.271371Z"
        },
        "id": "s3geYEN6VpIP"
      },
      "source": [
        "from sklearn import linear_model, ensemble"
      ],
      "execution_count": null,
      "outputs": []
    },
    {
      "cell_type": "markdown",
      "metadata": {
        "id": "ZAlTULkpVpIR"
      },
      "source": [
        "Прежде чем начать делать ремонт, нужно подготовить инструменты для работы. Аналогично в нашем случае, прежде чем обучать модели, нужно создать их прототипы.  "
      ]
    },
    {
      "cell_type": "markdown",
      "metadata": {
        "id": "PC-7xBQ0VpIT"
      },
      "source": [
        "Чтобы создать модель линейной регресии, пишем имя модуля 'linear_model', затем точку, затем название модели.\n",
        "\n",
        "Для этого нужно выполнить следующий код:\n",
        "\n",
        "```python\n",
        "linear_regression_model = linear_model.LinearRegression()\n",
        "linear_regression_model\n",
        "```\n",
        "\n",
        "Результат выполнения должен быть следующим:\n",
        "\n",
        "```python\n",
        "LinearRegression(copy_X=True, fit_intercept=True, n_jobs=1, normalize=False)\n",
        "```"
      ]
    },
    {
      "cell_type": "code",
      "metadata": {
        "ExecuteTime": {
          "end_time": "2020-10-11T10:09:23.046415Z",
          "start_time": "2020-10-11T10:09:23.043415Z"
        },
        "id": "aNnSF784VpIU"
      },
      "source": [
        "linear_regression_model = linear_model.LinearRegression() # создаем модель"
      ],
      "execution_count": null,
      "outputs": []
    },
    {
      "cell_type": "code",
      "metadata": {
        "ExecuteTime": {
          "end_time": "2020-10-11T10:09:23.081417Z",
          "start_time": "2020-10-11T10:09:23.047416Z"
        },
        "colab": {
          "base_uri": "https://localhost:8080/"
        },
        "id": "dDsnG2khVpIV",
        "outputId": "756e9fbc-e4d9-4d4d-ace3-694b5bd95f32"
      },
      "source": [
        "linear_regression_model # смотрим, что получилось"
      ],
      "execution_count": null,
      "outputs": [
        {
          "output_type": "execute_result",
          "data": {
            "text/plain": [
              "LinearRegression(copy_X=True, fit_intercept=True, n_jobs=None, normalize=False)"
            ]
          },
          "metadata": {
            "tags": []
          },
          "execution_count": 21
        }
      ]
    },
    {
      "cell_type": "markdown",
      "metadata": {
        "id": "Aexks5k2VpIX"
      },
      "source": [
        "Чтобы создать модель случайного леса, пишем имя модуля ensemble, затем точку, затем название модели. \n",
        "\n",
        "Для этого нужно выполнить следующий код:\n",
        "\n",
        "```python\n",
        "random_forest_model = ensemble.RandomForestRegressor()\n",
        "random_forest_model\n",
        "```\n",
        "Результат выполнения должен быть следующим:\n",
        "    \n",
        "```python\n",
        "RandomForestRegressor(bootstrap=True, criterion='mse', max_depth=None,\n",
        "           max_features='auto', max_leaf_nodes=None,\n",
        "           min_impurity_decrease=0.0, min_impurity_split=None,\n",
        "           min_samples_leaf=1, min_samples_split=2,\n",
        "           min_weight_fraction_leaf=0.0, n_estimators=10, n_jobs=1,\n",
        "           oob_score=False, random_state=None, verbose=0, warm_start=False)\n",
        "```"
      ]
    },
    {
      "cell_type": "markdown",
      "metadata": {
        "id": "KBf_WQtKVpIY"
      },
      "source": [
        "Обратите внимание, что для воспроизводимости результата на разных компьютерах необходимо для всех зафиксировать один параметр random_state. Например, можно установить для него значение 123. "
      ]
    },
    {
      "cell_type": "code",
      "metadata": {
        "ExecuteTime": {
          "end_time": "2020-10-11T10:09:23.124420Z",
          "start_time": "2020-10-11T10:09:23.082418Z"
        },
        "colab": {
          "base_uri": "https://localhost:8080/"
        },
        "id": "tch7UIN6VpIY",
        "outputId": "ca04e7ce-6bd7-4896-c10c-b1a11c19fae0"
      },
      "source": [
        "random_forest_model = ensemble.RandomForestRegressor(random_state=42)\n",
        "random_forest_model"
      ],
      "execution_count": null,
      "outputs": [
        {
          "output_type": "execute_result",
          "data": {
            "text/plain": [
              "RandomForestRegressor(bootstrap=True, ccp_alpha=0.0, criterion='mse',\n",
              "                      max_depth=None, max_features='auto', max_leaf_nodes=None,\n",
              "                      max_samples=None, min_impurity_decrease=0.0,\n",
              "                      min_impurity_split=None, min_samples_leaf=1,\n",
              "                      min_samples_split=2, min_weight_fraction_leaf=0.0,\n",
              "                      n_estimators=100, n_jobs=None, oob_score=False,\n",
              "                      random_state=42, verbose=0, warm_start=False)"
            ]
          },
          "metadata": {
            "tags": []
          },
          "execution_count": 22
        }
      ]
    },
    {
      "cell_type": "markdown",
      "metadata": {
        "id": "2CbmYUXaVpIa"
      },
      "source": [
        "У модели на основе случайного леса больше параметров. Рассмотрим наиболее важные:\n",
        "* параметр *n_estimators* определяет, сколько деревьев в лесу,\n",
        "* в параметре *max_depth* устанавливается, какая максимальная глубина у дерева,\n",
        "* в параметре *min_samples_leaf* задается, какое максимальное число объектов может попасть в лист дерева."
      ]
    },
    {
      "cell_type": "markdown",
      "metadata": {
        "id": "vD6S-2h8VpIb"
      },
      "source": [
        "Так как у модели на основе случайного решающего леса больше параметров, такая модель обычно обучается медленнее.\n",
        "Кроме этого, на время обучения влияют значения параметров модели. Например, чем больше деревьев в лесе - тем дольше модель будет учиться."
      ]
    },
    {
      "cell_type": "markdown",
      "metadata": {
        "id": "ygy1NGS7VpIc"
      },
      "source": [
        "**Шаг 3.2. Обучить модель**\n",
        "\n",
        "Теперь, когда мы создали прототипы обеих моделей, можем их обучить с помощью обучающей выборки. \n",
        "\n",
        "Для этого вызываем метод **fit()** у каждой модели и передаем ему на вход два аргумента: \n",
        "таблицу входных признаков и столбец значений целевой переменной - (training_points, training_values)"
      ]
    },
    {
      "cell_type": "code",
      "metadata": {
        "ExecuteTime": {
          "end_time": "2020-10-11T10:09:23.181423Z",
          "start_time": "2020-10-11T10:09:23.125420Z"
        },
        "colab": {
          "base_uri": "https://localhost:8080/"
        },
        "id": "6wpfnJJNVpIc",
        "outputId": "3bfc1d3c-6d48-40bc-8eb4-bd2059b84c2f"
      },
      "source": [
        "linear_regression_model.fit(training_points, training_values)"
      ],
      "execution_count": null,
      "outputs": [
        {
          "output_type": "execute_result",
          "data": {
            "text/plain": [
              "LinearRegression(copy_X=True, fit_intercept=True, n_jobs=None, normalize=False)"
            ]
          },
          "metadata": {
            "tags": []
          },
          "execution_count": 23
        }
      ]
    },
    {
      "cell_type": "markdown",
      "metadata": {
        "id": "m4-ZzGT7VpIf"
      },
      "source": [
        "Делаем тоже самое для модели решающего леса."
      ]
    },
    {
      "cell_type": "code",
      "metadata": {
        "ExecuteTime": {
          "end_time": "2020-10-11T10:09:24.158479Z",
          "start_time": "2020-10-11T10:09:23.182423Z"
        },
        "colab": {
          "base_uri": "https://localhost:8080/"
        },
        "id": "rEyDntqDVpIg",
        "outputId": "872b952d-9227-4cda-ef6d-4160b14b09fb"
      },
      "source": [
        "random_forest_model.fit(training_points, training_values)"
      ],
      "execution_count": null,
      "outputs": [
        {
          "output_type": "execute_result",
          "data": {
            "text/plain": [
              "RandomForestRegressor(bootstrap=True, ccp_alpha=0.0, criterion='mse',\n",
              "                      max_depth=None, max_features='auto', max_leaf_nodes=None,\n",
              "                      max_samples=None, min_impurity_decrease=0.0,\n",
              "                      min_impurity_split=None, min_samples_leaf=1,\n",
              "                      min_samples_split=2, min_weight_fraction_leaf=0.0,\n",
              "                      n_estimators=100, n_jobs=None, oob_score=False,\n",
              "                      random_state=42, verbose=0, warm_start=False)"
            ]
          },
          "metadata": {
            "tags": []
          },
          "execution_count": 24
        }
      ]
    },
    {
      "cell_type": "markdown",
      "metadata": {
        "id": "qiQwJqMLVpIj"
      },
      "source": [
        "* Для двух разных моделей в sklearn методы для обучения модели не отличаются.\n",
        "* Мы получили две обученные модели. \n",
        "* Теперь необходимо протестировать модели на новых тестовых данных. "
      ]
    },
    {
      "cell_type": "markdown",
      "metadata": {
        "id": "JIhETBmGVpIk"
      },
      "source": [
        "## 4. Загрузить и предобработать данные для тестирования"
      ]
    },
    {
      "cell_type": "markdown",
      "metadata": {
        "id": "T4JbfVqbVpIl"
      },
      "source": [
        "**Шаг 4.1. Загрузим и проанализируем тестовые данные.**\n",
        "\n",
        "Так как данные в формате xlsx (Excel), мы будем использовать специальную функцию\n",
        "из библиотеки pandas для загрузки таких данных **read_excel**.\n",
        "\n",
        "В функции передаем один атрибут: название файла, в котором находится таблица с данными."
      ]
    },
    {
      "cell_type": "code",
      "metadata": {
        "ExecuteTime": {
          "end_time": "2020-10-11T10:09:24.468497Z",
          "start_time": "2020-10-11T10:09:24.160479Z"
        },
        "id": "yAx4akj5VpIl"
      },
      "source": [
        "test_data = pd.read_excel('ML_School/test_data.xlsx', usecols=lambda x: 'Unnamed' not in x)"
      ],
      "execution_count": null,
      "outputs": []
    },
    {
      "cell_type": "markdown",
      "metadata": {
        "id": "vvFxMb39VpIn"
      },
      "source": [
        "*Что важно посмотреть, после того, как мы загрузили данные?*\n",
        "\n",
        "- проверить, что данные действительно загрузились\n",
        "- посмотреть на данные, чтобы удостовериться, что они правильные: колонки имеют те же названия, что и в таблице и т.д.\n",
        "\n",
        "Для того чтобы это сделать, нужно вызвать от переменной *test_data* метод **head()**, который выводит первые 5 строк таблицы. \n",
        "\n",
        "Для вызова метода объекта необходимо сначала написать *имя объекта*, затем поставить *точку*, затем уже написать *название метода*. Обратите внимание, что в конце обязательно ставить скобочки, потому что метод - это функция и в ней есть аргументы, просто в данном случае мы их не передаем, поэтому оставляем поле пустым"
      ]
    },
    {
      "cell_type": "code",
      "metadata": {
        "ExecuteTime": {
          "end_time": "2020-10-11T10:09:24.483498Z",
          "start_time": "2020-10-11T10:09:24.470497Z"
        },
        "colab": {
          "base_uri": "https://localhost:8080/",
          "height": 295
        },
        "id": "s7qyLLFEVpIn",
        "outputId": "30e0a5b8-a774-4116-b961-87da4a935572"
      },
      "source": [
        "test_data.head()"
      ],
      "execution_count": null,
      "outputs": [
        {
          "output_type": "execute_result",
          "data": {
            "text/html": [
              "<div>\n",
              "<style scoped>\n",
              "    .dataframe tbody tr th:only-of-type {\n",
              "        vertical-align: middle;\n",
              "    }\n",
              "\n",
              "    .dataframe tbody tr th {\n",
              "        vertical-align: top;\n",
              "    }\n",
              "\n",
              "    .dataframe thead th {\n",
              "        text-align: right;\n",
              "    }\n",
              "</style>\n",
              "<table border=\"1\" class=\"dataframe\">\n",
              "  <thead>\n",
              "    <tr style=\"text-align: right;\">\n",
              "      <th></th>\n",
              "      <th>price</th>\n",
              "      <th>year</th>\n",
              "      <th>condition</th>\n",
              "      <th>cylinders</th>\n",
              "      <th>odometer</th>\n",
              "      <th>title_status</th>\n",
              "      <th>transmission</th>\n",
              "      <th>drive</th>\n",
              "      <th>size</th>\n",
              "      <th>lat</th>\n",
              "      <th>long</th>\n",
              "      <th>weather</th>\n",
              "    </tr>\n",
              "  </thead>\n",
              "  <tbody>\n",
              "    <tr>\n",
              "      <th>0</th>\n",
              "      <td>5990</td>\n",
              "      <td>2004</td>\n",
              "      <td>4</td>\n",
              "      <td>8</td>\n",
              "      <td>210445</td>\n",
              "      <td>clean</td>\n",
              "      <td>automatic</td>\n",
              "      <td>4wd</td>\n",
              "      <td>full-size</td>\n",
              "      <td>38.731803</td>\n",
              "      <td>-90.073678</td>\n",
              "      <td>48.0</td>\n",
              "    </tr>\n",
              "    <tr>\n",
              "      <th>1</th>\n",
              "      <td>18995</td>\n",
              "      <td>2015</td>\n",
              "      <td>2</td>\n",
              "      <td>6</td>\n",
              "      <td>142282</td>\n",
              "      <td>clean</td>\n",
              "      <td>automatic</td>\n",
              "      <td>4wd</td>\n",
              "      <td>full-size</td>\n",
              "      <td>42.504823</td>\n",
              "      <td>-92.405569</td>\n",
              "      <td>47.0</td>\n",
              "    </tr>\n",
              "    <tr>\n",
              "      <th>2</th>\n",
              "      <td>23500</td>\n",
              "      <td>2012</td>\n",
              "      <td>3</td>\n",
              "      <td>6</td>\n",
              "      <td>100710</td>\n",
              "      <td>clean</td>\n",
              "      <td>automatic</td>\n",
              "      <td>4wd</td>\n",
              "      <td>full-size</td>\n",
              "      <td>36.060541</td>\n",
              "      <td>-95.795447</td>\n",
              "      <td>57.0</td>\n",
              "    </tr>\n",
              "    <tr>\n",
              "      <th>3</th>\n",
              "      <td>24988</td>\n",
              "      <td>2012</td>\n",
              "      <td>4</td>\n",
              "      <td>6</td>\n",
              "      <td>85572</td>\n",
              "      <td>clean</td>\n",
              "      <td>automatic</td>\n",
              "      <td>4wd</td>\n",
              "      <td>NaN</td>\n",
              "      <td>30.457703</td>\n",
              "      <td>-84.347448</td>\n",
              "      <td>65.0</td>\n",
              "    </tr>\n",
              "    <tr>\n",
              "      <th>4</th>\n",
              "      <td>20995</td>\n",
              "      <td>2014</td>\n",
              "      <td>3</td>\n",
              "      <td>6</td>\n",
              "      <td>157556</td>\n",
              "      <td>clean</td>\n",
              "      <td>automatic</td>\n",
              "      <td>NaN</td>\n",
              "      <td>full-size</td>\n",
              "      <td>42.701772</td>\n",
              "      <td>-89.008858</td>\n",
              "      <td>45.0</td>\n",
              "    </tr>\n",
              "  </tbody>\n",
              "</table>\n",
              "</div>"
            ],
            "text/plain": [
              "   price  year  condition  cylinders  ...       size        lat       long weather\n",
              "0   5990  2004          4          8  ...  full-size  38.731803 -90.073678    48.0\n",
              "1  18995  2015          2          6  ...  full-size  42.504823 -92.405569    47.0\n",
              "2  23500  2012          3          6  ...  full-size  36.060541 -95.795447    57.0\n",
              "3  24988  2012          4          6  ...        NaN  30.457703 -84.347448    65.0\n",
              "4  20995  2014          3          6  ...  full-size  42.701772 -89.008858    45.0\n",
              "\n",
              "[5 rows x 12 columns]"
            ]
          },
          "metadata": {
            "tags": []
          },
          "execution_count": 29
        }
      ]
    },
    {
      "cell_type": "markdown",
      "metadata": {
        "id": "t5FirF_gVpIp"
      },
      "source": [
        "Посмотрим на размеры загруженной таблицы, так как мы видели только 5 строк\n",
        "\n",
        "Для этого вызываем поле **shape** у нашей переменной *test_data*. Поле вызывается также как метод, но в конце скобки не ставятся (!), так как для поля не предусмотрена передача аргументов.  "
      ]
    },
    {
      "cell_type": "code",
      "metadata": {
        "ExecuteTime": {
          "end_time": "2020-10-11T10:09:24.516500Z",
          "start_time": "2020-10-11T10:09:24.484498Z"
        },
        "colab": {
          "base_uri": "https://localhost:8080/"
        },
        "id": "KO34mMItVpIq",
        "outputId": "ed3f3404-df1d-45d7-a8a6-f38cfcb8f8fd"
      },
      "source": [
        "test_data.shape"
      ],
      "execution_count": null,
      "outputs": [
        {
          "output_type": "execute_result",
          "data": {
            "text/plain": [
              "(2104, 12)"
            ]
          },
          "metadata": {
            "tags": []
          },
          "execution_count": 30
        }
      ]
    },
    {
      "cell_type": "markdown",
      "metadata": {
        "id": "-BaZSQW5VpIs"
      },
      "source": [
        "*Что означает первое и второе число?* \n",
        "Таблица содержит 2104 строк (объектов) и 12 столбцов (признаков), включая выходной (целевой) признак. Также как в учебных данных до обучения.\n",
        "\n",
        "Таблицу проверили, теперь можно приступать к обработке данных\n",
        "Действуем аналогично тому, как делали с данными для обучения"
      ]
    },
    {
      "cell_type": "markdown",
      "metadata": {
        "id": "6PHjjnESVpIu"
      },
      "source": [
        "Проверим, есть ли в данных пропуски. Для того чтобы это сделать, нужно обратиться вызвать у переменной *test_data* метод **info()**."
      ]
    },
    {
      "cell_type": "code",
      "metadata": {
        "ExecuteTime": {
          "end_time": "2020-10-11T10:09:24.553502Z",
          "start_time": "2020-10-11T10:09:24.517500Z"
        },
        "colab": {
          "base_uri": "https://localhost:8080/"
        },
        "id": "lBCj7SgIVpIu",
        "outputId": "629e303c-66a2-494f-d38b-a2abbac2ce2a"
      },
      "source": [
        "test_data.info()"
      ],
      "execution_count": null,
      "outputs": [
        {
          "output_type": "stream",
          "text": [
            "<class 'pandas.core.frame.DataFrame'>\n",
            "RangeIndex: 2104 entries, 0 to 2103\n",
            "Data columns (total 12 columns):\n",
            " #   Column        Non-Null Count  Dtype  \n",
            "---  ------        --------------  -----  \n",
            " 0   price         2104 non-null   int64  \n",
            " 1   year          2104 non-null   int64  \n",
            " 2   condition     2104 non-null   int64  \n",
            " 3   cylinders     2104 non-null   int64  \n",
            " 4   odometer      2104 non-null   int64  \n",
            " 5   title_status  2104 non-null   object \n",
            " 6   transmission  2104 non-null   object \n",
            " 7   drive         1975 non-null   object \n",
            " 8   size          1628 non-null   object \n",
            " 9   lat           2104 non-null   float64\n",
            " 10  long          2104 non-null   float64\n",
            " 11  weather       2036 non-null   float64\n",
            "dtypes: float64(3), int64(5), object(4)\n",
            "memory usage: 197.4+ KB\n"
          ],
          "name": "stdout"
        }
      ]
    },
    {
      "cell_type": "markdown",
      "metadata": {
        "id": "EmFdcoi-VpIz"
      },
      "source": [
        "Цифры в каждой строчке обозначают количество заполненных (*non-null*) значений. Видно, что в данных содержатся пропуски, так как эти цифры не в каждой строчке совпадают с полным числом строк (2106)."
      ]
    },
    {
      "cell_type": "markdown",
      "metadata": {
        "id": "_oHOMOi0VpIz"
      },
      "source": [
        "Нам необходимо удалить пропуски. Для этого применяем метод dropna() к test_data:"
      ]
    },
    {
      "cell_type": "code",
      "metadata": {
        "ExecuteTime": {
          "end_time": "2020-10-11T10:09:24.588504Z",
          "start_time": "2020-10-11T10:09:24.554502Z"
        },
        "id": "NG-omz7TVpI0"
      },
      "source": [
        "test_data = test_data.dropna()"
      ],
      "execution_count": null,
      "outputs": []
    },
    {
      "cell_type": "markdown",
      "metadata": {
        "id": "zF2i7hJwVpI3"
      },
      "source": [
        "Также нам нужно получить все числовые характеристики, для этого необхдимо применить метод **_get_numeric_data()** к объекту *test_data*:"
      ]
    },
    {
      "cell_type": "code",
      "metadata": {
        "ExecuteTime": {
          "end_time": "2020-10-11T10:09:24.621506Z",
          "start_time": "2020-10-11T10:09:24.589504Z"
        },
        "id": "Te59cOcUVpI4"
      },
      "source": [
        "test_data = test_data._get_numeric_data()"
      ],
      "execution_count": null,
      "outputs": []
    },
    {
      "cell_type": "markdown",
      "metadata": {
        "id": "aaWonH5tVpI5"
      },
      "source": [
        "**Шаг 4.2. Отделяем целевую переменную**"
      ]
    },
    {
      "cell_type": "markdown",
      "metadata": {
        "id": "tuA8DhmLVpI6"
      },
      "source": [
        "Нам нужно выделить в отдельную переменную *test_values* столбец из нашей таблицы, который соответствует определенной выше целевой переменной. Для этого мы у таблицы *test_data* в квадратных скобках указываем имя нужного столбца. В нашем случае это имя записано в переменной *target_variable_name*. "
      ]
    },
    {
      "cell_type": "code",
      "metadata": {
        "ExecuteTime": {
          "end_time": "2020-10-11T10:09:24.656508Z",
          "start_time": "2020-10-11T10:09:24.622506Z"
        },
        "id": "HOBamP4jVpI6"
      },
      "source": [
        "test_values = test_data[target_variable_name]"
      ],
      "execution_count": null,
      "outputs": []
    },
    {
      "cell_type": "markdown",
      "metadata": {
        "id": "JQ9RO-PnVpI8"
      },
      "source": [
        "Отделим входные переменные от выходной (целевой), чтобы можно было построить модель предсказания целевой переменной по входным. \n",
        "Для это нужно у переменной *test_data* вызвать метод **drop()**. Результат мы записываем в новую переменную *test_points*. После выполнения запроса *test_points* будет содержать исходную таблицу без целевого столбца. \n",
        "\n",
        "Обратите внимание, что в данном случае мы передаем два аргумента:\n",
        "    1. target_variable_name - название столбца цены, который мы ранее записали в эту переменную и теперь хотим удалить из training_data\n",
        "    2. axis=1 - означает, что мы удаляем столбец, а в случае axis=0 - означает, что мы удаляем строку"
      ]
    },
    {
      "cell_type": "code",
      "metadata": {
        "ExecuteTime": {
          "end_time": "2020-10-11T10:09:24.689509Z",
          "start_time": "2020-10-11T10:09:24.658508Z"
        },
        "id": "RoGzS1cmVpI9"
      },
      "source": [
        "test_points = test_data.drop(target_variable_name, axis=1)"
      ],
      "execution_count": null,
      "outputs": []
    },
    {
      "cell_type": "markdown",
      "metadata": {
        "id": "ZlLtvXxXVpI_"
      },
      "source": [
        "И проверяем результат записанный в test_points:"
      ]
    },
    {
      "cell_type": "code",
      "metadata": {
        "ExecuteTime": {
          "end_time": "2020-10-11T10:09:24.727512Z",
          "start_time": "2020-10-11T10:09:24.690510Z"
        },
        "colab": {
          "base_uri": "https://localhost:8080/",
          "height": 206
        },
        "id": "cnFLyoV1VpJB",
        "outputId": "34defe2d-26fe-460d-ca92-ec39e457e03e"
      },
      "source": [
        "test_points.head()"
      ],
      "execution_count": null,
      "outputs": [
        {
          "output_type": "execute_result",
          "data": {
            "text/html": [
              "<div>\n",
              "<style scoped>\n",
              "    .dataframe tbody tr th:only-of-type {\n",
              "        vertical-align: middle;\n",
              "    }\n",
              "\n",
              "    .dataframe tbody tr th {\n",
              "        vertical-align: top;\n",
              "    }\n",
              "\n",
              "    .dataframe thead th {\n",
              "        text-align: right;\n",
              "    }\n",
              "</style>\n",
              "<table border=\"1\" class=\"dataframe\">\n",
              "  <thead>\n",
              "    <tr style=\"text-align: right;\">\n",
              "      <th></th>\n",
              "      <th>year</th>\n",
              "      <th>condition</th>\n",
              "      <th>cylinders</th>\n",
              "      <th>odometer</th>\n",
              "      <th>lat</th>\n",
              "      <th>long</th>\n",
              "      <th>weather</th>\n",
              "    </tr>\n",
              "  </thead>\n",
              "  <tbody>\n",
              "    <tr>\n",
              "      <th>0</th>\n",
              "      <td>2004</td>\n",
              "      <td>4</td>\n",
              "      <td>8</td>\n",
              "      <td>210445</td>\n",
              "      <td>38.731803</td>\n",
              "      <td>-90.073678</td>\n",
              "      <td>48.0</td>\n",
              "    </tr>\n",
              "    <tr>\n",
              "      <th>1</th>\n",
              "      <td>2015</td>\n",
              "      <td>2</td>\n",
              "      <td>6</td>\n",
              "      <td>142282</td>\n",
              "      <td>42.504823</td>\n",
              "      <td>-92.405569</td>\n",
              "      <td>47.0</td>\n",
              "    </tr>\n",
              "    <tr>\n",
              "      <th>2</th>\n",
              "      <td>2012</td>\n",
              "      <td>3</td>\n",
              "      <td>6</td>\n",
              "      <td>100710</td>\n",
              "      <td>36.060541</td>\n",
              "      <td>-95.795447</td>\n",
              "      <td>57.0</td>\n",
              "    </tr>\n",
              "    <tr>\n",
              "      <th>8</th>\n",
              "      <td>2013</td>\n",
              "      <td>3</td>\n",
              "      <td>6</td>\n",
              "      <td>108500</td>\n",
              "      <td>42.612400</td>\n",
              "      <td>-83.034500</td>\n",
              "      <td>45.0</td>\n",
              "    </tr>\n",
              "    <tr>\n",
              "      <th>9</th>\n",
              "      <td>2000</td>\n",
              "      <td>3</td>\n",
              "      <td>8</td>\n",
              "      <td>69600</td>\n",
              "      <td>32.832296</td>\n",
              "      <td>-97.169012</td>\n",
              "      <td>67.0</td>\n",
              "    </tr>\n",
              "  </tbody>\n",
              "</table>\n",
              "</div>"
            ],
            "text/plain": [
              "   year  condition  cylinders  odometer        lat       long  weather\n",
              "0  2004          4          8    210445  38.731803 -90.073678     48.0\n",
              "1  2015          2          6    142282  42.504823 -92.405569     47.0\n",
              "2  2012          3          6    100710  36.060541 -95.795447     57.0\n",
              "8  2013          3          6    108500  42.612400 -83.034500     45.0\n",
              "9  2000          3          8     69600  32.832296 -97.169012     67.0"
            ]
          },
          "metadata": {
            "tags": []
          },
          "execution_count": 36
        }
      ]
    },
    {
      "cell_type": "code",
      "metadata": {
        "ExecuteTime": {
          "end_time": "2020-10-11T10:09:24.763514Z",
          "start_time": "2020-10-11T10:09:24.731512Z"
        },
        "colab": {
          "base_uri": "https://localhost:8080/"
        },
        "id": "ZaBU40bqVpJE",
        "outputId": "70d0d9be-3683-467e-e9c4-f93f334c4ec0"
      },
      "source": [
        "test_points.shape"
      ],
      "execution_count": null,
      "outputs": [
        {
          "output_type": "execute_result",
          "data": {
            "text/plain": [
              "(1543, 7)"
            ]
          },
          "metadata": {
            "tags": []
          },
          "execution_count": 37
        }
      ]
    },
    {
      "cell_type": "code",
      "metadata": {
        "ExecuteTime": {
          "end_time": "2020-10-11T10:09:24.800516Z",
          "start_time": "2020-10-11T10:09:24.766514Z"
        },
        "colab": {
          "base_uri": "https://localhost:8080/"
        },
        "id": "fZY7oIau7X5b",
        "outputId": "a895504e-8a11-4622-b6d2-7c78e58f7d8f"
      },
      "source": [
        "list(test_points)==list(training_points)"
      ],
      "execution_count": null,
      "outputs": [
        {
          "output_type": "execute_result",
          "data": {
            "text/plain": [
              "True"
            ]
          },
          "metadata": {
            "tags": []
          },
          "execution_count": 38
        }
      ]
    },
    {
      "cell_type": "markdown",
      "metadata": {
        "id": "XWGfgJ41VpJN"
      },
      "source": [
        "Видно, что количество столбцов уменьшилось на один. Данные в 5 первых строках такие же, как были ранее."
      ]
    },
    {
      "cell_type": "markdown",
      "metadata": {
        "id": "q1_dom14VpJO"
      },
      "source": [
        "# 5. Протестировать модель на тестовой выборке"
      ]
    },
    {
      "cell_type": "markdown",
      "metadata": {
        "id": "ZqHZwM4NVpJO"
      },
      "source": [
        "**Шаг 5.1. Сравнение моделей.**\n",
        "\n",
        "Теперь мы готовы сравнить качество двух моделей! 😎"
      ]
    },
    {
      "cell_type": "markdown",
      "metadata": {
        "id": "szK1iJdlVpJP"
      },
      "source": [
        "*1. Какая модель лучше?*\n",
        "\n",
        "Получим прогнозы целевой переменной на тестовых данных для модели линейной регрессии и модели случайного леса. \n",
        "\n",
        "Для этого вызовем у каждой модели метод **predict()**, в качестве аргумента передадим *test_points*."
      ]
    },
    {
      "cell_type": "code",
      "metadata": {
        "ExecuteTime": {
          "end_time": "2020-10-11T10:09:24.834518Z",
          "start_time": "2020-10-11T10:09:24.802516Z"
        },
        "id": "CzyXhjjmVpJP"
      },
      "source": [
        "test_predictions_linear = linear_regression_model.predict(test_points)"
      ],
      "execution_count": null,
      "outputs": []
    },
    {
      "cell_type": "code",
      "metadata": {
        "ExecuteTime": {
          "end_time": "2020-10-11T10:09:24.896521Z",
          "start_time": "2020-10-11T10:09:24.835518Z"
        },
        "id": "mQgJKsCzVpJR"
      },
      "source": [
        "test_predictions_random_forest = random_forest_model.predict(test_points)"
      ],
      "execution_count": null,
      "outputs": []
    },
    {
      "cell_type": "markdown",
      "metadata": {
        "id": "uzRLsLwzVpJT"
      },
      "source": [
        "Качество регрессионных моделей оценим двумя способами: \n",
        "1. Сравним визуально прогнозы с настоящими ценами (тестовые с предсказанием)\n",
        "2. Сравним метрики качества"
      ]
    },
    {
      "cell_type": "markdown",
      "metadata": {
        "id": "4zLnfS-QVpJT"
      },
      "source": [
        "Визуализируем прогноз линейной модели и настоящие значения из тестовой выборки"
      ]
    },
    {
      "cell_type": "code",
      "metadata": {
        "ExecuteTime": {
          "end_time": "2020-10-11T10:09:25.030529Z",
          "start_time": "2020-10-11T10:09:24.897521Z"
        },
        "colab": {
          "base_uri": "https://localhost:8080/",
          "height": 451
        },
        "id": "NHenFn_xVpJU",
        "outputId": "c992f0e7-4932-4b9e-9b5d-8fc2c9e3945b"
      },
      "source": [
        "plt.figure(figsize=(7, 7))\n",
        "plt.scatter(test_values, test_predictions_linear) # рисуем точки, соответствущие парам настоящее значение - прогноз\n",
        "plt.plot([0, max(test_values)], [0, max(test_predictions_linear)])  # рисуем прямую, на которой предсказания и настоящие значения совпадают\n",
        "plt.xlabel('Настоящая цена', fontsize=20)\n",
        "plt.ylabel('Предсказанная цена', fontsize=20);"
      ],
      "execution_count": null,
      "outputs": [
        {
          "output_type": "display_data",
          "data": {
            "image/png": "[encoded data removed]",
            "text/plain": [
              "<Figure size 504x504 with 1 Axes>"
            ]
          },
          "metadata": {
            "tags": [],
            "needs_background": "light"
          }
        }
      ]
    },
    {
      "cell_type": "markdown",
      "metadata": {
        "id": "h3sJ0r0EVpJW"
      },
      "source": [
        "Визуализируем прогноз модели случайного леса и настоящие значения из тестовой выборки"
      ]
    },
    {
      "cell_type": "code",
      "metadata": {
        "ExecuteTime": {
          "end_time": "2020-10-11T10:09:25.161536Z",
          "start_time": "2020-10-11T10:09:25.032529Z"
        },
        "colab": {
          "base_uri": "https://localhost:8080/",
          "height": 451
        },
        "id": "5F2x26VhVpJX",
        "outputId": "b84ade69-8b83-4852-e76d-3a6f6486956d"
      },
      "source": [
        "plt.figure(figsize=(7, 7))\n",
        "plt.scatter(test_values, test_predictions_random_forest) # рисуем точки, соответствущие парам настоящее значение - прогноз\n",
        "plt.plot([0, max(test_values)], [0, max(test_predictions_random_forest)]) # рисуем прямую, на которой предсказания и настоящие значения совпадают\n",
        "plt.xlabel('Настоящая цена', fontsize=20)\n",
        "plt.ylabel('Предсказанная цена', fontsize=20);"
      ],
      "execution_count": null,
      "outputs": [
        {
          "output_type": "display_data",
          "data": {
            "image/png": "[encoded data removed]",
            "text/plain": [
              "<Figure size 504x504 with 1 Axes>"
            ]
          },
          "metadata": {
            "tags": [],
            "needs_background": "light"
          }
        }
      ]
    },
    {
      "cell_type": "markdown",
      "metadata": {
        "id": "bz1bGYtBVpJY"
      },
      "source": [
        "Кажется, что лучше сработала модель случайного леса, так как точки на втором изображении расположены вдоль диагонали. На первом изображении видно, что для высоких настоящих цен модель линейной регрессии дает существенно заниженный результат. \n",
        "\n",
        "Проверим, так ли это с помощью **метрик качества регрессионной модели**"
      ]
    },
    {
      "cell_type": "markdown",
      "metadata": {
        "id": "1lxaLw0sVpJZ"
      },
      "source": [
        "Для корректного подсчета метрик качества модели в python требуется загрузить их из библиотеки **sklearn**. \n",
        "\n",
        "Мы используем две метрики качества:\n",
        " * *mean_absolute_error* - средняя абсолютная ошибка $|y_i - \\hat{y}_i|$\n",
        " * *mean_squared_error* - средняя квадратичная ошибка $(y_i - \\hat{y}_i)^2$\n",
        " * *RMSE* - корень из *mean_squared_error*"
      ]
    },
    {
      "cell_type": "code",
      "metadata": {
        "ExecuteTime": {
          "end_time": "2020-10-11T10:09:25.165537Z",
          "start_time": "2020-10-11T10:09:25.162537Z"
        },
        "id": "gkEpYLFeVpJZ"
      },
      "source": [
        "from sklearn.metrics import mean_absolute_error, mean_squared_error, r2_score"
      ],
      "execution_count": null,
      "outputs": []
    },
    {
      "cell_type": "markdown",
      "metadata": {
        "id": "dBORSjO3VpJb"
      },
      "source": [
        "Подсчитаем ошибки для линейной модели.\n",
        "\n",
        "Для этого вызовем методы **mean_absolute_error()** и **mean_squared_error()**. На вход им передается столбец настоящих значений *test_values* и столбец значений, предсказанных моделью линейной регрессии *test_predictions_linear*."
      ]
    },
    {
      "cell_type": "code",
      "metadata": {
        "ExecuteTime": {
          "end_time": "2020-10-11T10:09:25.199539Z",
          "start_time": "2020-10-11T10:09:25.167537Z"
        },
        "id": "r7-CM5OQVpJb"
      },
      "source": [
        "mean_absolute_error_linear_model = mean_absolute_error(test_values, test_predictions_linear)\n",
        "mean_squared_error_linear_model = mean_squared_error(test_values, test_predictions_linear)\n",
        "r2_score_linear_model = r2_score(test_values, test_predictions_linear)"
      ],
      "execution_count": null,
      "outputs": []
    },
    {
      "cell_type": "markdown",
      "metadata": {
        "id": "6XGtVtRRVpJe"
      },
      "source": [
        "Подсчитаем ошибки для модели случайного леса.\n",
        "\n",
        "Для этого вызовем методы **mean_absolute_error()** и **mean_squared_error()**. На вход им передается столбец настоящих значений *test_values* и столбец значений, предсказанных моделью линейной регрессии *test_predictions_random_forest*."
      ]
    },
    {
      "cell_type": "code",
      "metadata": {
        "ExecuteTime": {
          "end_time": "2020-10-11T10:09:25.232541Z",
          "start_time": "2020-10-11T10:09:25.200539Z"
        },
        "id": "BvhoMtppVpJf"
      },
      "source": [
        "mean_absolute_error_random_forest_model = mean_absolute_error(test_values, test_predictions_random_forest)\n",
        "mean_squared_error_random_forest_model = mean_squared_error(test_values, test_predictions_random_forest)\n",
        "r2_score_random_forest_model = r2_score(test_values, test_predictions_random_forest)\n"
      ],
      "execution_count": null,
      "outputs": []
    },
    {
      "cell_type": "markdown",
      "metadata": {
        "id": "auOjxKrbVpJh"
      },
      "source": [
        "Теперь напечатаем полученные ошибки."
      ]
    },
    {
      "cell_type": "code",
      "metadata": {
        "ExecuteTime": {
          "end_time": "2020-10-11T10:09:25.268543Z",
          "start_time": "2020-10-11T10:09:25.233541Z"
        },
        "colab": {
          "base_uri": "https://localhost:8080/"
        },
        "id": "6HtHlEomVpJi",
        "outputId": "2678d059-7af1-4ef1-dd38-3b173047cbf8"
      },
      "source": [
        "print(\"MAE: {0:7.2f}, RMSE: {1:7.2f}, R2: {2:7.2f} for linear model\".format(\n",
        "        mean_absolute_error(test_values, test_predictions_linear), \n",
        "        mean_squared_error(test_values, test_predictions_linear)**0.5,\n",
        "        r2_score_linear_model))\n",
        "\n",
        "print(\"MAE: {0:7.2f}, RMSE: {1:7.2f}, R2: {2:7.2f} for random forest model\".format(\n",
        "       mean_absolute_error(test_values, test_predictions_random_forest), \n",
        "       mean_squared_error(test_values, test_predictions_random_forest)**0.5,\n",
        "       r2_score_random_forest_model))"
      ],
      "execution_count": null,
      "outputs": [
        {
          "output_type": "stream",
          "text": [
            "MAE: 4485.56, RMSE: 6656.34, R2:    0.62 for linear model\n",
            "MAE: 1828.15, RMSE: 3543.72,  R2:    0.89 for random forest model\n"
          ],
          "name": "stdout"
        }
      ]
    },
    {
      "cell_type": "markdown",
      "metadata": {
        "id": "nPg94NvVVpJp"
      },
      "source": [
        "Модель случайного леса работает лучше и визуально, и потому, что абсолютная и средне квадратичная ошибка меньше для линейной регресии.\n",
        "\n",
        "Мы получили значения метрик ошибок наших моделей. Чтобы понять, насколько это нас устраивает, важно взглянуть на исходный порядок цен на автомобили.\n",
        "Видно, что средняя цена имеет порядок 20 000 долларов, что означает, что полученная ошибка может удовлетворять предъявляемым требованиям к модели регрессии."
      ]
    },
    {
      "cell_type": "markdown",
      "metadata": {
        "id": "fcuiUvJyS6qO"
      },
      "source": [
        "# Презентация\n",
        "Сравните ваше решение с этим.\n"
      ]
    },
    {
      "cell_type": "code",
      "metadata": {
        "id": "ogrdjPdwS6qO"
      },
      "source": [],
      "execution_count": null,
      "outputs": []
    }
  ]
}