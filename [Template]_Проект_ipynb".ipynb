{
  "nbformat": 4,
  "nbformat_minor": 0,
  "metadata": {
    "colab": {
      "provenance": [],
      "mount_file_id": "1LIGBDAyXKnUxHqe4sBPhRrJjjAJt1K_a",
      "authorship_tag": "ABX9TyPJ99TEj/wQw6WIp48rODLV",
      "include_colab_link": true
    },
    "kernelspec": {
      "name": "python3",
      "display_name": "Python 3"
    }
  },
  "cells": [
    {
      "cell_type": "markdown",
      "metadata": {
        "id": "view-in-github",
        "colab_type": "text"
      },
      "source": [
        "<a href=\"https://colab.research.google.com/github/disath1554/--10/blob/main/%5BTemplate%5D_%D0%9F%D1%80%D0%BE%D0%B5%D0%BA%D1%82_ipynb%22.ipynb\" target=\"_parent\"><img src=\"https://colab.research.google.com/assets/colab-badge.svg\" alt=\"Open In Colab\"/></a>"
      ]
    },
    {
      "cell_type": "markdown",
      "metadata": {
        "id": "SIyI1DV6q30R"
      },
      "source": [
        "# Проект\n",
        "Из «Дельта Банка» стали уходить клиенты. Банковские маркетологи посчитали: сохранять текущих клиентов дешевле, чем привлекать новых.\n",
        "Имеются данные о поведении клиентов и расторжении договоров с банком. Нужно спрогнозировать, уйдёт клиент из банка в ближайшее время или нет.\n",
        "\n",
        "**Шаг 1. Чтение и анализ данных **\n",
        "\n",
        "Откройте <a href=\"https://raw.githubusercontent.com/disath1554/ML/main/LogisticRegression/сhurn.csv\"> файл с данными</a> и изучите его. Имя файла: churn.csv"
      ]
    },
    {
      "cell_type": "code",
      "metadata": {
        "id": "auaW3VZEr7IL"
      },
      "source": [
        "# чтение данных\n",
        "import pandas as pd\n"
      ],
      "execution_count": null,
      "outputs": []
    },
    {
      "cell_type": "code",
      "source": [
        "data.columns"
      ],
      "metadata": {
        "id": "fGnxWJR2nzQV"
      },
      "execution_count": null,
      "outputs": []
    },
    {
      "cell_type": "markdown",
      "metadata": {
        "id": "hYAjnOpqsQu9"
      },
      "source": [
        "#### Признаки\n",
        "RowNumber — индекс строки в данных<br>\n",
        "CustomerId — уникальный идентификатор клиента<br>\n",
        "Surname — фамилия<br>\n",
        "CreditScore — кредитный рейтинг<br>\n",
        "Geography — страна проживания<br>\n",
        "Gender — пол<br>\n",
        "Age — возраст<br>\n",
        "Tenure — количество недвижимости у клиента<br>\n",
        "Balance — баланс на счёте<br>\n",
        "NumOfProducts — количество продуктов банка, используемых клиентом<br>\n",
        "HasCrCard — наличие кредитной карты<br>\n",
        "IsActiveMember — активность клиента<br>\n",
        "EstimatedSalary — предполагаемая зарплата<br>\n",
        "#### Целевой признак<br>\n",
        "Exited — факт ухода клиента<br>"
      ]
    },
    {
      "cell_type": "code",
      "source": [
        "# анализ целевого признака"
      ],
      "metadata": {
        "id": "KZLRlCQ1WkWJ"
      },
      "execution_count": null,
      "outputs": []
    },
    {
      "cell_type": "code",
      "source": [
        "# анализ числовых данных (выбросы, ошибки, пропуски)\n"
      ],
      "metadata": {
        "id": "y3Kg5v0nXRiD"
      },
      "execution_count": null,
      "outputs": []
    },
    {
      "cell_type": "code",
      "source": [],
      "metadata": {
        "id": "8m-tAv8qr0pd"
      },
      "execution_count": null,
      "outputs": []
    },
    {
      "cell_type": "code",
      "source": [
        "# анализ категориальных данных (ошибки, пропуски)\n"
      ],
      "metadata": {
        "id": "8g-ZDtNmXJyG"
      },
      "execution_count": null,
      "outputs": []
    },
    {
      "cell_type": "markdown",
      "source": [
        "**Выводы:**"
      ],
      "metadata": {
        "id": "nLkmhQ1TWqZ0"
      }
    },
    {
      "cell_type": "markdown",
      "metadata": {
        "id": "L6dVj8tmtoBR"
      },
      "source": [
        "**Шаг 2. Подготовка признаков** \n"
      ]
    },
    {
      "cell_type": "code",
      "source": [
        "\n",
        "\n"
      ],
      "metadata": {
        "id": "lHSciRUMwyE0"
      },
      "execution_count": null,
      "outputs": []
    },
    {
      "cell_type": "markdown",
      "source": [],
      "metadata": {
        "id": "JBgg9D7E0IbO"
      }
    },
    {
      "cell_type": "code",
      "metadata": {
        "id": "FeGujREHN58Q"
      },
      "source": [
        "# кодирование категориальных данных\n",
        "# кодирование категорий в столбце Gender\n"
      ],
      "execution_count": null,
      "outputs": []
    },
    {
      "cell_type": "code",
      "source": [
        "# деление на выборки"
      ],
      "metadata": {
        "id": "xdG9VGr9XA7P"
      },
      "execution_count": null,
      "outputs": []
    },
    {
      "cell_type": "code",
      "source": [
        "# нормализация числовых данных"
      ],
      "metadata": {
        "id": "JjITFc-6X2gW"
      },
      "execution_count": null,
      "outputs": []
    },
    {
      "cell_type": "code",
      "source": [
        "# подготовка признаков"
      ],
      "metadata": {
        "id": "yQlmXslTZQrS"
      },
      "execution_count": null,
      "outputs": []
    },
    {
      "cell_type": "markdown",
      "source": [
        "**Выводы:**"
      ],
      "metadata": {
        "id": "UWOP2kQbWJja"
      }
    },
    {
      "cell_type": "markdown",
      "metadata": {
        "id": "rYgT7IpQN-AK"
      },
      "source": [
        "**Шаг 3. Обучение модели** "
      ]
    },
    {
      "cell_type": "code",
      "source": [
        "# логистическая регрессия"
      ],
      "metadata": {
        "id": "9r22PNKEV3cM"
      },
      "execution_count": null,
      "outputs": []
    },
    {
      "cell_type": "markdown",
      "source": [
        "**Шаг 4. Оценка модели**"
      ],
      "metadata": {
        "id": "wJyIxnvZWH0C"
      }
    },
    {
      "cell_type": "code",
      "source": [],
      "metadata": {
        "id": "iHpp84rOeTFL"
      },
      "execution_count": null,
      "outputs": []
    },
    {
      "cell_type": "markdown",
      "source": [
        "**Выводы:**"
      ],
      "metadata": {
        "id": "2p694fKseSJu"
      }
    }
  ]
}